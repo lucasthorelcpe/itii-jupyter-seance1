{
 "cells": [
  {
   "cell_type": "code",
   "execution_count": 9,
   "metadata": {},
   "outputs": [
    {
     "name": "stdout",
     "output_type": "stream",
     "text": [
      "Entrez le rayon du cone: 1\n",
      "Entrez la hauteur du cone: 1\n",
      "1.0471975511965976\n"
     ]
    }
   ],
   "source": [
    "import math\n",
    "from math import *\n",
    "\n",
    "# π X R² X H/3 Formule du volume d'un cone droit\n",
    "    \n",
    "rayon=input(\"Entrez le rayon du cone: \")\n",
    "rayonint=int (rayon)\n",
    "hauteur=input(\"Entrez la hauteur du cone: \")\n",
    "hauteurint=int (hauteur)\n",
    "\n",
    "calcul_volume = pi*(rayonint*rayonint)*(hauteurint/3)\n",
    "print(calcul_volume)\n",
    "    "
   ]
  },
  {
   "cell_type": "code",
   "execution_count": null,
   "metadata": {},
   "outputs": [],
   "source": []
  }
 ],
 "metadata": {
  "kernelspec": {
   "display_name": "Python 3",
   "language": "python",
   "name": "python3"
  },
  "language_info": {
   "codemirror_mode": {
    "name": "ipython",
    "version": 3
   },
   "file_extension": ".py",
   "mimetype": "text/x-python",
   "name": "python",
   "nbconvert_exporter": "python",
   "pygments_lexer": "ipython3",
   "version": "3.7.6"
  }
 },
 "nbformat": 4,
 "nbformat_minor": 4
}
