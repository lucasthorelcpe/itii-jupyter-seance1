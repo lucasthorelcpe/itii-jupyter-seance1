{
 "cells": [
  {
   "cell_type": "code",
   "execution_count": 17,
   "metadata": {},
   "outputs": [
    {
     "name": "stdout",
     "output_type": "stream",
     "text": [
      "Entrez le rayon du cone : 2\n",
      "Entrez la hauteur du cone : 2\n",
      "Le volume du cone droit est de :  8.377580409572781\n"
     ]
    }
   ],
   "source": [
    "import math\n",
    "from math import *\n",
    "\n",
    "# π X R² X H/3 Formule du volume d'un cone droit\n",
    "    \n",
    "rayon=input(\"Entrez le rayon du cone : \")\n",
    "rayonint=int (rayon)\n",
    "\n",
    "hauteur=input(\"Entrez la hauteur du cone : \")\n",
    "hauteurint=int (hauteur)\n",
    "\n",
    "calcul_volume = pi*(rayonint*rayonint)*(hauteurint/3)\n",
    "print(\"Le volume du cone droit est de : \",calcul_volume)\n",
    "    "
   ]
  },
  {
   "cell_type": "code",
   "execution_count": 26,
   "metadata": {},
   "outputs": [
    {
     "name": "stdout",
     "output_type": "stream",
     "text": [
      "Entrez un entier n : 6\n",
      "Partie A de l'exercice :  441\n",
      "Partie B de l'exercice :  21\n"
     ]
    }
   ],
   "source": [
    "import math\n",
    "from math import *\n",
    "\n",
    "n=input(\"Entrez un entier n : \")\n",
    "nint=int (n)\n",
    "\n",
    "def sommea(nint):\n",
    "    Sa = 0\n",
    "    for k in range(1,nint+1):\n",
    "        Sa += k**3\n",
    "    return Sa\n",
    "\n",
    "def sommeb(nint):\n",
    "    Sb = 0\n",
    "    for k in range(1,nint+1):\n",
    "        Sb += k\n",
    "    return Sb\n",
    "\n",
    "print(\"Partie A de l'exercice : \",sommea(nint))\n",
    "print(\"Partie B de l'exercice : \",sommeb(nint))"
   ]
  },
  {
   "cell_type": "code",
   "execution_count": null,
   "metadata": {},
   "outputs": [],
   "source": [
    "from math import *\n",
    "\n",
    "n=input(\"Entrez un entier n : \")\n",
    "nstr=str(n)\n",
    "nstr.count(1)\n",
    "return occurence"
   ]
  }
 ],
 "metadata": {
  "kernelspec": {
   "display_name": "Python 3",
   "language": "python",
   "name": "python3"
  },
  "language_info": {
   "codemirror_mode": {
    "name": "ipython",
    "version": 3
   },
   "file_extension": ".py",
   "mimetype": "text/x-python",
   "name": "python",
   "nbconvert_exporter": "python",
   "pygments_lexer": "ipython3",
   "version": "3.7.6"
  }
 },
 "nbformat": 4,
 "nbformat_minor": 4
}
